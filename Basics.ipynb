{
 "cells": [
  {
   "cell_type": "code",
   "execution_count": 1,
   "metadata": {
    "collapsed": false
   },
   "outputs": [
    {
     "data": {
      "text/html": [
       "<div>\n",
       "<style scoped>\n",
       "    .dataframe tbody tr th:only-of-type {\n",
       "        vertical-align: middle;\n",
       "    }\n",
       "\n",
       "    .dataframe tbody tr th {\n",
       "        vertical-align: top;\n",
       "    }\n",
       "\n",
       "    .dataframe thead th {\n",
       "        text-align: right;\n",
       "    }\n",
       "</style>\n",
       "<table border=\"1\" class=\"dataframe\">\n",
       "  <thead>\n",
       "    <tr style=\"text-align: right;\">\n",
       "      <th></th>\n",
       "      <th>Show Number</th>\n",
       "      <th>Air Date</th>\n",
       "      <th>Round</th>\n",
       "      <th>Category</th>\n",
       "      <th>Value</th>\n",
       "      <th>Question</th>\n",
       "      <th>Answer</th>\n",
       "    </tr>\n",
       "  </thead>\n",
       "  <tbody>\n",
       "    <tr>\n",
       "      <th>0</th>\n",
       "      <td>4680</td>\n",
       "      <td>2004-12-31</td>\n",
       "      <td>Jeopardy!</td>\n",
       "      <td>HISTORY</td>\n",
       "      <td>$200</td>\n",
       "      <td>For the last 8 years of his life, Galileo was ...</td>\n",
       "      <td>Copernicus</td>\n",
       "    </tr>\n",
       "    <tr>\n",
       "      <th>1</th>\n",
       "      <td>4680</td>\n",
       "      <td>2004-12-31</td>\n",
       "      <td>Jeopardy!</td>\n",
       "      <td>ESPN's TOP 10 ALL-TIME ATHLETES</td>\n",
       "      <td>$200</td>\n",
       "      <td>No. 2: 1912 Olympian; football star at Carlisl...</td>\n",
       "      <td>Jim Thorpe</td>\n",
       "    </tr>\n",
       "    <tr>\n",
       "      <th>2</th>\n",
       "      <td>4680</td>\n",
       "      <td>2004-12-31</td>\n",
       "      <td>Jeopardy!</td>\n",
       "      <td>EVERYBODY TALKS ABOUT IT...</td>\n",
       "      <td>$200</td>\n",
       "      <td>The city of Yuma in this state has a record av...</td>\n",
       "      <td>Arizona</td>\n",
       "    </tr>\n",
       "    <tr>\n",
       "      <th>3</th>\n",
       "      <td>4680</td>\n",
       "      <td>2004-12-31</td>\n",
       "      <td>Jeopardy!</td>\n",
       "      <td>THE COMPANY LINE</td>\n",
       "      <td>$200</td>\n",
       "      <td>In 1963, live on \"The Art Linkletter Show\", th...</td>\n",
       "      <td>McDonald's</td>\n",
       "    </tr>\n",
       "    <tr>\n",
       "      <th>4</th>\n",
       "      <td>4680</td>\n",
       "      <td>2004-12-31</td>\n",
       "      <td>Jeopardy!</td>\n",
       "      <td>EPITAPHS &amp; TRIBUTES</td>\n",
       "      <td>$200</td>\n",
       "      <td>Signer of the Dec. of Indep., framer of the Co...</td>\n",
       "      <td>John Adams</td>\n",
       "    </tr>\n",
       "  </tbody>\n",
       "</table>\n",
       "</div>"
      ],
      "text/plain": [
       "   Show Number    Air Date      Round                         Category  Value  \\\n",
       "0         4680  2004-12-31  Jeopardy!                          HISTORY   $200   \n",
       "1         4680  2004-12-31  Jeopardy!  ESPN's TOP 10 ALL-TIME ATHLETES   $200   \n",
       "2         4680  2004-12-31  Jeopardy!      EVERYBODY TALKS ABOUT IT...   $200   \n",
       "3         4680  2004-12-31  Jeopardy!                 THE COMPANY LINE   $200   \n",
       "4         4680  2004-12-31  Jeopardy!              EPITAPHS & TRIBUTES   $200   \n",
       "\n",
       "                                            Question      Answer  \n",
       "0  For the last 8 years of his life, Galileo was ...  Copernicus  \n",
       "1  No. 2: 1912 Olympian; football star at Carlisl...  Jim Thorpe  \n",
       "2  The city of Yuma in this state has a record av...     Arizona  \n",
       "3  In 1963, live on \"The Art Linkletter Show\", th...  McDonald's  \n",
       "4  Signer of the Dec. of Indep., framer of the Co...  John Adams  "
      ]
     },
     "execution_count": 1,
     "metadata": {},
     "output_type": "execute_result"
    }
   ],
   "source": [
    "import pandas as pd\n",
    "jeopardy = pd.read_csv('jeopardy.csv')\n",
    "jeopardy.head()"
   ]
  },
  {
   "cell_type": "code",
   "execution_count": 2,
   "metadata": {
    "collapsed": false
   },
   "outputs": [
    {
     "data": {
      "text/plain": [
       "Index(['Show Number', ' Air Date', ' Round', ' Category', ' Value',\n",
       "       ' Question', ' Answer'],\n",
       "      dtype='object')"
      ]
     },
     "execution_count": 2,
     "metadata": {},
     "output_type": "execute_result"
    }
   ],
   "source": [
    "jeopardy.columns"
   ]
  },
  {
   "cell_type": "code",
   "execution_count": 3,
   "metadata": {
    "collapsed": true
   },
   "outputs": [],
   "source": [
    "new_col = []\n",
    "for col in jeopardy.columns:\n",
    "    col = col.strip()\n",
    "    new_col.append(col)\n",
    "jeopardy.columns = new_col"
   ]
  },
  {
   "cell_type": "code",
   "execution_count": 4,
   "metadata": {
    "collapsed": false
   },
   "outputs": [
    {
     "data": {
      "text/plain": [
       "Index(['Show Number', 'Air Date', 'Round', 'Category', 'Value', 'Question',\n",
       "       'Answer'],\n",
       "      dtype='object')"
      ]
     },
     "execution_count": 4,
     "metadata": {},
     "output_type": "execute_result"
    }
   ],
   "source": [
    "jeopardy.columns"
   ]
  },
  {
   "cell_type": "code",
   "execution_count": 5,
   "metadata": {
    "collapsed": true
   },
   "outputs": [],
   "source": [
    "import re\n",
    "def normalize_text(a_string):\n",
    "    a_string = a_string.lower()\n",
    "    a_string = re.sub('\\W', ' ', a_string)\n",
    "    return a_string\n",
    "jeopardy['clean_question'] = jeopardy['Question'].apply(normalize_text)\n",
    "jeopardy['clean_answer'] = jeopardy['Answer'].apply(normalize_text)"
   ]
  },
  {
   "cell_type": "code",
   "execution_count": 6,
   "metadata": {
    "collapsed": false
   },
   "outputs": [
    {
     "data": {
      "text/plain": [
       "0                                               copernicus\n",
       "1                                               jim thorpe\n",
       "2                                                  arizona\n",
       "3                                               mcdonald s\n",
       "4                                               john adams\n",
       "5                                                  the ant\n",
       "6                                           the appian way\n",
       "7                                           michael jordan\n",
       "8                                               washington\n",
       "9                                           crate   barrel\n",
       "10                                          jackie gleason\n",
       "11                                                 the cud\n",
       "12                                   ceylon  or sri lanka \n",
       "13                                               jim brown\n",
       "14                                            the uv index\n",
       "15                                                  bulova\n",
       "16                                             jesse james\n",
       "17                                                     imp\n",
       "18                                       the international\n",
       "19                                             lou  gehrig\n",
       "20                                                 morocco\n",
       "21                                            paul  bonwit\n",
       "22       hattie mcdaniel  for her role in gone with the...\n",
       "23                                                     era\n",
       "24                                      the congress party\n",
       "25                                       wilt  chamberlain\n",
       "26                                                      k2\n",
       "27                                             ethan allen\n",
       "28                                                     ply\n",
       "29                                                  horton\n",
       "                               ...                        \n",
       "19969                                        steam engines\n",
       "19970                                            petruchio\n",
       "19971                                  stanford university\n",
       "19972                                          emma watson\n",
       "19973                                                   bo\n",
       "19974                                   an antimatter bomb\n",
       "19975                                         the iroquois\n",
       "19976                                             pericles\n",
       "19977                                               tulane\n",
       "19978                                      kristen stewart\n",
       "19979                                                   fo\n",
       "19980                                           a conclave\n",
       "19981                                     open door policy\n",
       "19982                                               quince\n",
       "19983                                              berklee\n",
       "19984                                   michelle rodriguez\n",
       "19985                                                   ur\n",
       "19986                                              bernini\n",
       "19987                                                 atom\n",
       "19988                                  houston  lee brown \n",
       "19989                                          buddy holly\n",
       "19990                                         leif ericson\n",
       "19991                                           bill gates\n",
       "19992                                                 wool\n",
       "19993                                              hostess\n",
       "19994                                                   18\n",
       "19995                                               prince\n",
       "19996                                              galileo\n",
       "19997                                      monica lewinsky\n",
       "19998                                               camels\n",
       "Name: clean_answer, Length: 19999, dtype: object"
      ]
     },
     "execution_count": 6,
     "metadata": {},
     "output_type": "execute_result"
    }
   ],
   "source": [
    "jeopardy['clean_answer']"
   ]
  },
  {
   "cell_type": "code",
   "execution_count": 7,
   "metadata": {
    "collapsed": false
   },
   "outputs": [
    {
     "data": {
      "text/plain": [
       "0        for the last 8 years of his life  galileo was ...\n",
       "1        no  2  1912 olympian  football star at carlisl...\n",
       "2        the city of yuma in this state has a record av...\n",
       "3        in 1963  live on  the art linkletter show   th...\n",
       "4        signer of the dec  of indep   framer of the co...\n",
       "5        in the title of an aesop fable  this insect sh...\n",
       "6        built in 312 b c  to link rome   the south of ...\n",
       "7        no  8  30 steals for the birmingham barons  2 ...\n",
       "8        in the winter of 1971 72  a record 1 122 inche...\n",
       "9        this housewares store was named for the packag...\n",
       "10                                         and away we go \n",
       "11       cows regurgitate this from the first stomach t...\n",
       "12       in 1000 rajaraja i of the cholas battled to ta...\n",
       "13       no  1  lettered in hoops  football   lacrosse ...\n",
       "14       on june 28  1994 the nat l weather service beg...\n",
       "15       this company s accutron watch  introduced in 1...\n",
       "16       outlaw   murdered by a traitor and a coward wh...\n",
       "17       a small demon  or a mischievous child  who mig...\n",
       "18       karl led the first of these marxist organizati...\n",
       "19       no  10  fb lb for columbia u  in the 1920s  mv...\n",
       "20       africa s lowest temperature was 11 degrees bel...\n",
       "21       edward teller   this man partnered in 1898 to ...\n",
       "22       1939 oscar winner      you are a credit to you...\n",
       "23       in geologic time one of these  shorter than an...\n",
       "24       this asian political party was founded in 1885...\n",
       "25       no  5  only center to lead the nba in assists ...\n",
       "26       the kirschner brothers  don   bill  named this...\n",
       "27       revolutionary war hero   his spirit is in verm...\n",
       "28       a single layer of paper  or to perform one s c...\n",
       "29        a href  http   www j archive com media 2004 1...\n",
       "                               ...                        \n",
       "19969    in 1960 the last of these locomotives was reti...\n",
       "19970    kate   if i be waspish  best beware my sting  ...\n",
       "19971    this private college in northern california bo...\n",
       "19972    she voiced princess pea in  the tale of desper...\n",
       "19973    it s the name of the long awaited new white ho...\n",
       "19974    langdon in  angels   demons  is looking for  a...\n",
       "19975    in the 1600s most of new york state was occupi...\n",
       "19976            marina s dad  need a hint  he rules tyre \n",
       "19977    presidential kids are welcome at this new orle...\n",
       "19978    she didn t vamp it up   did a bella job as em ...\n",
       "19979    third syllable intoned by the giant who smells...\n",
       "19980    much of  angels   demons  takes place at one o...\n",
       "19981    in 1899 secretary of state john hay proclaimed...\n",
       "19982    fruity surname of peter in  a midsummer night ...\n",
       "19983    quincy jones  kevin eubanks   branford marsali...\n",
       "19984    in 2009 she returned to being  fast   furious ...\n",
       "19985    the book of genesis says this ancient city  of...\n",
       "19986     habakkuk and the angel  is one of a series of...\n",
       "19987    in medieval england  it meant the smallest uni...\n",
       "19988    this texas city is the largest in the u s  to ...\n",
       "19989                                         the crickets\n",
       "19990    in the 990s this son of erik the red brought c...\n",
       "19991    concerning a failed windows 98 demonstration  ...\n",
       "19992    this llama product is used to make hats  blank...\n",
       "19993    in 1967 this company introduced its chocolate ...\n",
       "19994    of 8  12 or 18  the number of u s  states that...\n",
       "19995                             the new power generation\n",
       "19996    in 1589 he was appointed professor of mathemat...\n",
       "19997    before the grand jury she said   i m really so...\n",
       "19998    llamas are the heftiest south american members...\n",
       "Name: clean_question, Length: 19999, dtype: object"
      ]
     },
     "execution_count": 7,
     "metadata": {},
     "output_type": "execute_result"
    }
   ],
   "source": [
    "jeopardy['clean_question']"
   ]
  },
  {
   "cell_type": "code",
   "execution_count": 8,
   "metadata": {
    "collapsed": true
   },
   "outputs": [],
   "source": [
    "def normalize_value(a_string):\n",
    "    a_string = re.sub('\\W', '', a_string)\n",
    "    if a_string == 'None':\n",
    "        a_string = 0\n",
    "    else:\n",
    "        a_string = int(a_string)\n",
    "    return a_string"
   ]
  },
  {
   "cell_type": "code",
   "execution_count": 9,
   "metadata": {
    "collapsed": false
   },
   "outputs": [],
   "source": [
    "jeopardy['clean_value'] = jeopardy['Value'].apply(normalize_value)"
   ]
  },
  {
   "cell_type": "code",
   "execution_count": 10,
   "metadata": {
    "collapsed": false
   },
   "outputs": [],
   "source": [
    "jeopardy['clean_date'] = pd.to_datetime(jeopardy['Air Date'])"
   ]
  },
  {
   "cell_type": "code",
   "execution_count": 11,
   "metadata": {
    "collapsed": true
   },
   "outputs": [],
   "source": [
    "def not_study(row):\n",
    "    split_answer = row['clean_answer'].split()\n",
    "    split_question = row['clean_question'].split()\n",
    "    match_count = 0\n",
    "    if 'the' in split_answer:\n",
    "        split_answer.remove('the')\n",
    "    if len(split_answer) != 0:\n",
    "        for word in split_answer:\n",
    "            if word in split_question:\n",
    "                match_count += 1\n",
    "            else:\n",
    "                continue\n",
    "    else:\n",
    "        return 0\n",
    "    return match_count / len(split_answer)                "
   ]
  },
  {
   "cell_type": "code",
   "execution_count": 12,
   "metadata": {
    "collapsed": false
   },
   "outputs": [],
   "source": [
    "jeopardy['answer_in_question'] = jeopardy.apply(not_study, axis=1)"
   ]
  },
  {
   "cell_type": "code",
   "execution_count": 13,
   "metadata": {
    "collapsed": false
   },
   "outputs": [
    {
     "data": {
      "text/plain": [
       "0.06294645581984949"
      ]
     },
     "execution_count": 13,
     "metadata": {},
     "output_type": "execute_result"
    }
   ],
   "source": [
    "jeopardy['answer_in_question'].mean()"
   ]
  },
  {
   "cell_type": "code",
   "execution_count": 14,
   "metadata": {
    "collapsed": false
   },
   "outputs": [],
   "source": [
    "question_overlap = []\n",
    "terms_used = set()\n",
    "jeopardy = jeopardy.sort_values(by=['Air Date'])"
   ]
  },
  {
   "cell_type": "code",
   "execution_count": 16,
   "metadata": {
    "collapsed": false
   },
   "outputs": [
    {
     "data": {
      "text/plain": [
       "0.5254786645114725"
      ]
     },
     "execution_count": 16,
     "metadata": {},
     "output_type": "execute_result"
    }
   ],
   "source": [
    "for row in jeopardy.iterrows():\n",
    "    split_question = row[1]['clean_question'].split(' ')\n",
    "    split_question = [word for word in split_question if len(word) >= 6 ]\n",
    "    match_count = 0\n",
    "    for word in split_question:\n",
    "        if word in terms_used:\n",
    "            match_count += 1\n",
    "    terms_used.add(word)\n",
    "    if len(split_question) > 0:\n",
    "        match_count = match_count / len(split_question)\n",
    "    question_overlap.append(match_count)\n",
    "jeopardy['question_overlap'] = question_overlap\n",
    "jeopardy['question_overlap'].mean()"
   ]
  },
  {
   "cell_type": "code",
   "execution_count": 17,
   "metadata": {
    "collapsed": true
   },
   "outputs": [],
   "source": [
    "def change_value(row):\n",
    "    value = 1 if row['clean_value'] > 800 else 0\n",
    "    return value"
   ]
  },
  {
   "cell_type": "code",
   "execution_count": 18,
   "metadata": {
    "collapsed": false
   },
   "outputs": [],
   "source": [
    "jeopardy['high_value'] = jeopardy.apply(change_value, axis=1)"
   ]
  },
  {
   "cell_type": "code",
   "execution_count": 25,
   "metadata": {
    "collapsed": true
   },
   "outputs": [],
   "source": [
    "def count_value(word):\n",
    "    low_count = 0\n",
    "    high_count = 0\n",
    "    for row in jeopardy.iterrows():\n",
    "        split_question = row[1]['clean_question'].split(' ')\n",
    "        if word in split_question:\n",
    "            if row[1]['high_value'] == 1:\n",
    "                high_count += 1\n",
    "            else:\n",
    "                low_count += 1\n",
    "    return low_count, high_count"
   ]
  },
  {
   "cell_type": "code",
   "execution_count": 26,
   "metadata": {
    "collapsed": false
   },
   "outputs": [],
   "source": [
    "from random import *\n",
    "comparison_terms = sample(terms_used, 10)"
   ]
  },
  {
   "cell_type": "code",
   "execution_count": 27,
   "metadata": {
    "collapsed": false
   },
   "outputs": [],
   "source": [
    "observed_expected = []\n",
    "for term in comparison_terms:\n",
    "    observed_expected.append(count_value(term))"
   ]
  },
  {
   "cell_type": "code",
   "execution_count": 28,
   "metadata": {
    "collapsed": false
   },
   "outputs": [
    {
     "name": "stdout",
     "output_type": "stream",
     "text": [
      "[(5, 3), (7, 4), (1, 0), (1, 1), (4, 0), (1, 1), (2, 0), (1, 2), (2, 0), (1, 1)]\n"
     ]
    }
   ],
   "source": [
    "print(observed_expected)"
   ]
  },
  {
   "cell_type": "code",
   "execution_count": 29,
   "metadata": {
    "collapsed": true
   },
   "outputs": [],
   "source": [
    "high_value_count = sum(jeopardy['high_value'] == 1)"
   ]
  },
  {
   "cell_type": "code",
   "execution_count": 34,
   "metadata": {
    "collapsed": false
   },
   "outputs": [],
   "source": [
    "low_value_count = sum(jeopardy['high_value'] == 0)"
   ]
  },
  {
   "cell_type": "code",
   "execution_count": 56,
   "metadata": {
    "collapsed": false
   },
   "outputs": [
    {
     "ename": "TypeError",
     "evalue": "data type not understood",
     "output_type": "error",
     "traceback": [
      "\u001b[1;31m\u001b[0m",
      "\u001b[1;31mTypeError\u001b[0mTraceback (most recent call last)",
      "\u001b[1;32m<ipython-input-56-d76b39e28a6e>\u001b[0m in \u001b[0;36m<module>\u001b[1;34m()\u001b[0m\n\u001b[0;32m      7\u001b[0m     \u001b[0mhigh_expected\u001b[0m \u001b[1;33m=\u001b[0m \u001b[0mtotal_prop\u001b[0m \u001b[1;33m*\u001b[0m \u001b[0mhigh_value_count\u001b[0m\u001b[1;33m\u001b[0m\u001b[0m\n\u001b[0;32m      8\u001b[0m     \u001b[0mlow_expected\u001b[0m \u001b[1;33m=\u001b[0m \u001b[0mtotal_prop\u001b[0m \u001b[1;33m*\u001b[0m \u001b[0mlow_value_count\u001b[0m\u001b[1;33m\u001b[0m\u001b[0m\n\u001b[1;32m----> 9\u001b[1;33m     \u001b[0mobserved\u001b[0m \u001b[1;33m=\u001b[0m \u001b[0mnp\u001b[0m\u001b[1;33m.\u001b[0m\u001b[0marray\u001b[0m\u001b[1;33m(\u001b[0m\u001b[0mhigh_value_count\u001b[0m\u001b[1;33m,\u001b[0m \u001b[0mlow_value_count\u001b[0m\u001b[1;33m)\u001b[0m\u001b[1;33m\u001b[0m\u001b[0m\n\u001b[0m\u001b[0;32m     10\u001b[0m     \u001b[0mexpected\u001b[0m \u001b[1;33m=\u001b[0m \u001b[0mnp\u001b[0m\u001b[1;33m.\u001b[0m\u001b[0marray\u001b[0m\u001b[1;33m(\u001b[0m\u001b[0mhigh_expected\u001b[0m\u001b[1;33m,\u001b[0m \u001b[0mlow_expected\u001b[0m\u001b[1;33m)\u001b[0m\u001b[1;33m\u001b[0m\u001b[0m\n\u001b[0;32m     11\u001b[0m     \u001b[0mchisq\u001b[0m\u001b[1;33m,\u001b[0m \u001b[0mp_value\u001b[0m \u001b[1;33m=\u001b[0m \u001b[0mchisquare\u001b[0m\u001b[1;33m(\u001b[0m\u001b[1;33m[\u001b[0m\u001b[0mobserved\u001b[0m\u001b[1;33m,\u001b[0m \u001b[0mexpected\u001b[0m\u001b[1;33m]\u001b[0m\u001b[1;33m)\u001b[0m\u001b[1;33m\u001b[0m\u001b[0m\n",
      "\u001b[1;31mTypeError\u001b[0m: data type not understood"
     ]
    }
   ],
   "source": [
    "from scipy.stats import chisquare\n",
    "import numpy as np\n",
    "chi_squared = []\n",
    "for item in observed_expected:\n",
    "    total = sum(item)\n",
    "    total_prop = total / len(jeopardy)\n",
    "    high_expected = total_prop * high_value_count\n",
    "    low_expected = total_prop * low_value_count\n",
    "    observed = np.array(high_value_count, low_value_count)\n",
    "    expected = np.array(high_expected, low_expected)\n",
    "    chisq, p_value = chisquare([observed, expected])\n",
    "    chi_squared.append([chisq, p_value])"
   ]
  },
  {
   "cell_type": "code",
   "execution_count": 54,
   "metadata": {
    "collapsed": false
   },
   "outputs": [
    {
     "name": "stdout",
     "output_type": "stream",
     "text": [
      "[[5727.122524602264, 0.0], [5724.545361940761, 0.0], [5733.139914335717, 0.0], [5732.2799433457, 0.0], [5730.560345319671, 0.0], [5732.2799433457, 0.0], [5732.2799433457, 0.0], [5731.42008701275, 0.0], [5732.2799433457, 0.0], [5732.2799433457, 0.0]]\n"
     ]
    }
   ],
   "source": [
    "print(chi_squared)"
   ]
  },
  {
   "cell_type": "code",
   "execution_count": 47,
   "metadata": {
    "collapsed": false
   },
   "outputs": [
    {
     "name": "stdout",
     "output_type": "stream",
     "text": [
      "5734\n"
     ]
    }
   ],
   "source": [
    "print(high_value_count)"
   ]
  },
  {
   "cell_type": "code",
   "execution_count": 48,
   "metadata": {
    "collapsed": false
   },
   "outputs": [
    {
     "name": "stdout",
     "output_type": "stream",
     "text": [
      "14265\n"
     ]
    }
   ],
   "source": [
    "print(low_value_count)"
   ]
  },
  {
   "cell_type": "code",
   "execution_count": 52,
   "metadata": {
    "collapsed": false
   },
   "outputs": [
    {
     "name": "stdout",
     "output_type": "stream",
     "text": [
      "2.2937146857342867 5.706285314265713\n",
      "3.1538576928846442 7.846142307115356\n",
      "0.28671433571678584 0.7132856642832142\n",
      "0.5734286714335717 1.4265713285664283\n",
      "1.1468573428671434 2.8531426571328566\n",
      "0.5734286714335717 1.4265713285664283\n",
      "0.5734286714335717 1.4265713285664283\n",
      "0.8601430071503575 2.1398569928496425\n",
      "0.5734286714335717 1.4265713285664283\n",
      "0.5734286714335717 1.4265713285664283\n"
     ]
    }
   ],
   "source": [
    "for item in observed_expected:\n",
    "    total = sum(item)\n",
    "    print(total / len(jeopardy) * high_value_count, total / len(jeopardy) * low_value_count)"
   ]
  },
  {
   "cell_type": "code",
   "execution_count": null,
   "metadata": {
    "collapsed": true
   },
   "outputs": [],
   "source": []
  }
 ],
 "metadata": {
  "kernelspec": {
   "display_name": "Python 3",
   "language": "python",
   "name": "python3"
  },
  "language_info": {
   "codemirror_mode": {
    "name": "ipython",
    "version": 3
   },
   "file_extension": ".py",
   "mimetype": "text/x-python",
   "name": "python",
   "nbconvert_exporter": "python",
   "pygments_lexer": "ipython3",
   "version": "3.4.3"
  }
 },
 "nbformat": 4,
 "nbformat_minor": 0
}
